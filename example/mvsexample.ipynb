{
 "cells": [
  {
   "cell_type": "code",
   "execution_count": 1,
   "id": "1a4876f4-59c9-4467-b66b-09ed92cf680a",
   "metadata": {
    "tags": []
   },
   "outputs": [
    {
     "name": "stderr",
     "output_type": "stream",
     "text": [
      "2024-07-06 14:33:28.384742: E external/local_xla/xla/stream_executor/cuda/cuda_dnn.cc:9261] Unable to register cuDNN factory: Attempting to register factory for plugin cuDNN when one has already been registered\n",
      "2024-07-06 14:33:28.384826: E external/local_xla/xla/stream_executor/cuda/cuda_fft.cc:607] Unable to register cuFFT factory: Attempting to register factory for plugin cuFFT when one has already been registered\n",
      "2024-07-06 14:33:28.386347: E external/local_xla/xla/stream_executor/cuda/cuda_blas.cc:1515] Unable to register cuBLAS factory: Attempting to register factory for plugin cuBLAS when one has already been registered\n",
      "2024-07-06 14:33:28.396321: I tensorflow/core/platform/cpu_feature_guard.cc:182] This TensorFlow binary is optimized to use available CPU instructions in performance-critical operations.\n",
      "To enable the following instructions: AVX2 FMA, in other operations, rebuild TensorFlow with the appropriate compiler flags.\n",
      "2024-07-06 14:33:29.961772: W tensorflow/compiler/tf2tensorrt/utils/py_utils.cc:38] TF-TRT Warning: Could not find TensorRT\n"
     ]
    }
   ],
   "source": [
    "from PIL import Image\n",
    "from clipmvs import MultiViewSummarizer"
   ]
  },
  {
   "cell_type": "code",
   "execution_count": null,
   "id": "00b71acb-cf69-4c00-851d-091af522fb86",
   "metadata": {},
   "outputs": [],
   "source": [
    "# Initialize the summarizer\n",
    "summarizer = MultiViewSummarizer(config_path='../config.json') "
   ]
  },
  {
   "cell_type": "code",
   "execution_count": null,
   "id": "e7586f45-15e7-4b6e-8d71-91fcacec0e8a",
   "metadata": {},
   "outputs": [],
   "source": [
    "# Process videos to store embeddings\n",
    "video_paths = ['vid1 path', 'vid2 path']  # Add more video paths as needed\n",
    "summarizer.set_video_loaders(video_paths)\n",
    "summarizer.process_videos(video_paths)"
   ]
  },
  {
   "cell_type": "code",
   "execution_count": null,
   "id": "fb0c696c-8fab-48c8-83e4-d0a65967b89d",
   "metadata": {},
   "outputs": [],
   "source": [
    "# Define multiple queries (both text and image)\n",
    "queries = [\n",
    "    \"test query 1\",\n",
    "    \"test query 2\",\n",
    "    Image.open(\"path to image query\")\n",
    "]"
   ]
  },
  {
   "cell_type": "code",
   "execution_count": null,
   "id": "30595b53-a0a9-4029-ad0b-0c22633ac31e",
   "metadata": {},
   "outputs": [],
   "source": [
    "is_images = [False, False, True] "
   ]
  },
  {
   "cell_type": "code",
   "execution_count": null,
   "id": "f48dce70-f4ec-4d79-b93f-0ab0bb609027",
   "metadata": {},
   "outputs": [],
   "source": [
    "# Generate and visualize summaries for multiple queries\n",
    "summarizer.generate_and_visualize_summaries(queries,top_k=50, is_images=is_images)"
   ]
  },
  {
   "cell_type": "code",
   "execution_count": null,
   "id": "37d7b2fb-d5d9-4254-af12-699197f933b9",
   "metadata": {},
   "outputs": [],
   "source": [
    "# Close the Qdrant connection\n",
    "summarizer.close()"
   ]
  }
 ],
 "metadata": {
  "kernelspec": {
   "display_name": "Python 3 (ipykernel)",
   "language": "python",
   "name": "python3"
  },
  "language_info": {
   "codemirror_mode": {
    "name": "ipython",
    "version": 3
   },
   "file_extension": ".py",
   "mimetype": "text/x-python",
   "name": "python",
   "nbconvert_exporter": "python",
   "pygments_lexer": "ipython3",
   "version": "3.11.7"
  }
 },
 "nbformat": 4,
 "nbformat_minor": 5
}
